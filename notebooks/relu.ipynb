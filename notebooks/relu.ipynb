{
 "cells": [
  {
   "cell_type": "code",
   "execution_count": 1,
   "metadata": {},
   "outputs": [],
   "source": [
    "import math\n",
    "from numba import cuda\n",
    "import time\n",
    "import torch\n",
    "from torch import Tensor\n",
    "from torch import nn\n",
    "from torch.autograd import Function\n"
   ]
  },
  {
   "cell_type": "code",
   "execution_count": 2,
   "metadata": {},
   "outputs": [],
   "source": [
    "@cuda.jit\n",
    "def relu_kernel(input, output, dim: int):\n",
    "\n",
    "    idx = cuda.grid(1)\n",
    "    if idx < dim:\n",
    "        output[idx] = max(input[idx], 0)\n",
    "\n",
    "\n",
    "class NumbaReLUFunction(Function):\n",
    "    @staticmethod\n",
    "    def forward(ctx, input: Tensor) -> Tensor:\n",
    "        output = torch.zeros_like(input)\n",
    "        threads_per_block = 256\n",
    "        dim = input.numel()\n",
    "        blocks_per_grid = math.ceil(dim / threads_per_block)\n",
    "        \n",
    "        relu_kernel[blocks_per_grid, threads_per_block](input.detach().view(-1), output.view(-1), dim)\n",
    "        \n",
    "        ctx.save_for_backward(input)\n",
    "        return output\n",
    "\n",
    "    @staticmethod\n",
    "    def backward(ctx, grad_output: Tensor) -> Tensor:\n",
    "        input, = ctx.saved_tensors\n",
    "        grad_input = grad_output.clone()\n",
    "        grad_input[input < 0] = 0\n",
    "        return grad_input\n",
    "\n",
    "\n",
    "class NumbaReLU(nn.Module):\n",
    "    def __init__(self, inplace: bool = False) -> None:\n",
    "        super().__init__()\n",
    "        self.inplace = inplace\n",
    "\n",
    "    def forward(self, x: Tensor):\n",
    "        return NumbaReLUFunction.apply(x)"
   ]
  },
  {
   "cell_type": "code",
   "execution_count": 3,
   "metadata": {},
   "outputs": [],
   "source": [
    "if __name__ == '__main__':\n",
    "\n",
    "    batch_size = 1000 \n",
    "    num_features = 3 \n",
    "    height = 512\n",
    "    width = 512 \n",
    "\n",
    "\n",
    "    input_tensor1 = torch.randn(batch_size, num_features, height, width, device='cuda')\n",
    "    input_tensor2 = torch.randn(batch_size, num_features, height, width, device='cpu')\n",
    "\n",
    "    numba_relu = NumbaReLU().cuda()\n",
    "    torch_relu = nn.ReLU()\n",
    "\n",
    "    _ = numba_relu (input_tensor1)\n",
    "    _ = torch_relu (input_tensor2)\n",
    "    torch.cuda.synchronize() \n",
    "\n",
    "  \n",
    "    \n",
    "    \n",
    "    \n",
    "\n",
    "    \n",
    "    \n",
    "   "
   ]
  },
  {
   "cell_type": "code",
   "execution_count": 4,
   "metadata": {},
   "outputs": [
    {
     "name": "stdout",
     "output_type": "stream",
     "text": [
      "PyTorch relu Time: 24.6041 secs \n"
     ]
    }
   ],
   "source": [
    "#pytorch built-in relu\n",
    "start_time = time.time()\n",
    "for _ in range(100):\n",
    "    _ = torch_relu(input_tensor2)\n",
    "pytorch_time = time.time() - start_time\n",
    "\n",
    "print(f\"PyTorch relu Time: {pytorch_time:.4f} secs \")"
   ]
  },
  {
   "cell_type": "code",
   "execution_count": 5,
   "metadata": {},
   "outputs": [
    {
     "name": "stdout",
     "output_type": "stream",
     "text": [
      "Custom relu Time: 0.1890 secs \n"
     ]
    }
   ],
   "source": [
    "#custom relu\n",
    "start_time = time.time()\n",
    "for _ in range(100):\n",
    "    _ = numba_relu(input_tensor1)\n",
    "custom_time = time.time() - start_time\n",
    "print(f\"Custom relu Time: {custom_time:.4f} secs \")"
   ]
  },
  {
   "cell_type": "code",
   "execution_count": null,
   "metadata": {},
   "outputs": [],
   "source": []
  }
 ],
 "metadata": {
  "kernelspec": {
   "display_name": "pytorch_env",
   "language": "python",
   "name": "python3"
  },
  "language_info": {
   "codemirror_mode": {
    "name": "ipython",
    "version": 3
   },
   "file_extension": ".py",
   "mimetype": "text/x-python",
   "name": "python",
   "nbconvert_exporter": "python",
   "pygments_lexer": "ipython3",
   "version": "3.12.4"
  }
 },
 "nbformat": 4,
 "nbformat_minor": 2
}

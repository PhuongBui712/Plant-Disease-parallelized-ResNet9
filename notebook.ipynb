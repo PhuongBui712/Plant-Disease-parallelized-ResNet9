{
 "cells": [
  {
   "metadata": {},
   "cell_type": "markdown",
   "source": "# Plant Diseases Identification by XGBoost",
   "id": "5dedfcaf39d21e19"
  },
  {
   "metadata": {},
   "cell_type": "markdown",
   "source": "## Import libraries",
   "id": "ca5ce8206b5a24d0"
  },
  {
   "metadata": {
    "ExecuteTime": {
     "end_time": "2024-06-10T12:40:32.589667Z",
     "start_time": "2024-06-10T12:40:31.764595Z"
    }
   },
   "cell_type": "code",
   "source": [
    "import numpy as np\n",
    "import os\n",
    "import cv2\n",
    "from numba import jit, njit\n",
    "\n",
    "from xgboost import XGBClassifier\n",
    "from sklearn.preprocessing import LabelEncoder\n",
    "from sklearn.metrics import accuracy_score"
   ],
   "id": "474ffacbe9fe6e14",
   "outputs": [],
   "execution_count": 1
  },
  {
   "metadata": {},
   "cell_type": "markdown",
   "source": "## Data preparation ",
   "id": "6662c039ee13bea5"
  },
  {
   "metadata": {
    "ExecuteTime": {
     "end_time": "2024-06-10T12:40:32.592182Z",
     "start_time": "2024-06-10T12:40:32.590547Z"
    }
   },
   "cell_type": "code",
   "source": [
    "# TODO: handle data from scrath\n",
    "data_dir = os.path.join(os.getcwd(), 'data/New Plant Diseases Dataset(Augmented)')\n",
    "IMG_SIZE = (256, 256)"
   ],
   "id": "c86a709355630b41",
   "outputs": [],
   "execution_count": 2
  },
  {
   "metadata": {
    "ExecuteTime": {
     "end_time": "2024-06-10T12:40:32.597373Z",
     "start_time": "2024-06-10T12:40:32.592644Z"
    }
   },
   "cell_type": "code",
   "source": [
    "@njit\n",
    "def reshape_array(arr, shape):\n",
    "    return np.reshape(arr, shape)"
   ],
   "id": "fdaca7aaf25201c7",
   "outputs": [],
   "execution_count": 3
  },
  {
   "metadata": {
    "ExecuteTime": {
     "end_time": "2024-06-10T12:40:32.600698Z",
     "start_time": "2024-06-10T12:40:32.598394Z"
    }
   },
   "cell_type": "code",
   "source": [
    "def read_data(path, get_labels=True):\n",
    "    X = []\n",
    "    y = []\n",
    "    disease_dir_list = os.listdir(path)\n",
    "    for dirname in disease_dir_list:\n",
    "        disease_dir_path = os.path.join(path, dirname)\n",
    "        disease_item_list = os.listdir(disease_dir_path)\n",
    "        for file in disease_item_list:\n",
    "            img = cv2.imread(os.path.join(disease_dir_path, file), cv2.IMREAD_COLOR)\n",
    "            img = cv2.resize(img, IMG_SIZE)\n",
    "            img = cv2.cvtColor(img, cv2.COLOR_BGR2RGB)\n",
    "\n",
    "            X.append(img)\n",
    "\n",
    "        if get_labels:\n",
    "            y += [dirname.split('___')[1]] * len(disease_item_list)\n",
    "    \n",
    "    X = np.array(X)\n",
    "        \n",
    "    if get_labels:\n",
    "        return X, y\n",
    "    return X"
   ],
   "id": "75c5c232da69cc76",
   "outputs": [],
   "execution_count": 4
  },
  {
   "metadata": {
    "ExecuteTime": {
     "end_time": "2024-06-10T12:42:38.832657Z",
     "start_time": "2024-06-10T12:40:32.601226Z"
    }
   },
   "cell_type": "code",
   "source": "X_train, y_train = read_data(path=os.path.join(data_dir, 'train'), get_labels=True)",
   "id": "cb6dd23434f5472",
   "outputs": [],
   "execution_count": 5
  },
  {
   "metadata": {
    "ExecuteTime": {
     "end_time": "2024-06-10T12:42:39.210126Z",
     "start_time": "2024-06-10T12:42:38.836661Z"
    }
   },
   "cell_type": "code",
   "source": [
    "# Flatten image matrix\n",
    "X_train = reshape_array(X_train, (X_train.shape[0], -1))\n",
    "\n",
    "# Encode label\n",
    "y_train = LabelEncoder().fit_transform(y_train)"
   ],
   "id": "33938bb6a6a80183",
   "outputs": [],
   "execution_count": 6
  },
  {
   "metadata": {},
   "cell_type": "markdown",
   "source": "## Train",
   "id": "b321f8680d4d4b31"
  },
  {
   "metadata": {
    "jupyter": {
     "is_executing": true
    },
    "ExecuteTime": {
     "start_time": "2024-06-10T12:42:39.210851Z"
    }
   },
   "cell_type": "code",
   "source": [
    "model = XGBClassifier()\n",
    "model.fit(X_train, y_train)"
   ],
   "id": "82dfac8e62682a0b",
   "outputs": [],
   "execution_count": null
  },
  {
   "metadata": {
    "jupyter": {
     "is_executing": true
    }
   },
   "cell_type": "code",
   "source": "accuracy_score(model.predict(X_train), y_train)",
   "id": "e9a0d0858e713066",
   "outputs": [],
   "execution_count": null
  }
 ],
 "metadata": {
  "kernelspec": {
   "display_name": "Python 3",
   "language": "python",
   "name": "python3"
  },
  "language_info": {
   "codemirror_mode": {
    "name": "ipython",
    "version": 2
   },
   "file_extension": ".py",
   "mimetype": "text/x-python",
   "name": "python",
   "nbconvert_exporter": "python",
   "pygments_lexer": "ipython2",
   "version": "2.7.6"
  }
 },
 "nbformat": 4,
 "nbformat_minor": 5
}

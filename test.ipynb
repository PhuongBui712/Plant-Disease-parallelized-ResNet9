{
 "cells": [
  {
   "metadata": {
    "ExecuteTime": {
     "end_time": "2024-06-17T08:55:09.997700Z",
     "start_time": "2024-06-17T08:55:09.995456Z"
    }
   },
   "cell_type": "code",
   "source": [
    "import numpy as np\n",
    "from numba import njit, jit"
   ],
   "id": "102de09e1b017e5c",
   "outputs": [],
   "execution_count": 8
  },
  {
   "metadata": {
    "ExecuteTime": {
     "end_time": "2024-06-17T08:55:10.553947Z",
     "start_time": "2024-06-17T08:55:10.551067Z"
    }
   },
   "cell_type": "code",
   "source": [
    "@jit\n",
    "def entropy(y):\n",
    "    \"\"\"Calculate the entropy of a dataset.\"\"\"\n",
    "    value, counts = np.unique(y, return_counts=True)\n",
    "    # norm_counts = counts / counts.sum()\n",
    "    # base = np.e if np.any(norm_counts == 0) else np.log2\n",
    "    # return -np.sum(norm_counts * np.log2(norm_counts))"
   ],
   "id": "5f2a55c0015a23de",
   "outputs": [],
   "execution_count": 9
  },
  {
   "metadata": {
    "ExecuteTime": {
     "end_time": "2024-06-17T08:55:11.959704Z",
     "start_time": "2024-06-17T08:55:11.923012Z"
    }
   },
   "cell_type": "code",
   "source": [
    "y = np.array([0,1,2,2,2,1,0,1,0,0])\n",
    "entropy(y)"
   ],
   "id": "f6bc3ad0e84ae9af",
   "outputs": [
    {
     "ename": "TypingError",
     "evalue": "Failed in nopython mode pipeline (step: nopython frontend)\nNo implementation of function Function(<function unique at 0x104519080>) found for signature:\n \n >>> unique(array(int64, 1d, C), return_counts=Literal[bool](True))\n \nThere are 2 candidate implementations:\n      - Of which 2 did not match due to:\n      Overload in function 'np_unique': File: numba/np/arrayobj.py: Line 2561.\n        With argument(s): '(array(int64, 1d, C), return_counts=bool)':\n       Rejected as the implementation raised a specific error:\n         TypingError: got an unexpected keyword argument 'return_counts'\n  raised from /Users/btp712/Code/Plant-Disease-parallelized-XGBoost/.venv/lib/python3.12/site-packages/numba/core/typing/templates.py:784\n\nDuring: resolving callee type: Function(<function unique at 0x104519080>)\nDuring: typing of call at /var/folders/xl/lwf29p0n1bs99ksdkvmkq_n80000gn/T/ipykernel_37894/281965823.py (4)\n\n\nFile \"../../../../var/folders/xl/lwf29p0n1bs99ksdkvmkq_n80000gn/T/ipykernel_37894/281965823.py\", line 4:\n<source missing, REPL/exec in use?>\n",
     "output_type": "error",
     "traceback": [
      "\u001B[0;31m---------------------------------------------------------------------------\u001B[0m",
      "\u001B[0;31mTypingError\u001B[0m                               Traceback (most recent call last)",
      "Cell \u001B[0;32mIn[10], line 2\u001B[0m\n\u001B[1;32m      1\u001B[0m y \u001B[38;5;241m=\u001B[39m np\u001B[38;5;241m.\u001B[39marray([\u001B[38;5;241m0\u001B[39m,\u001B[38;5;241m1\u001B[39m,\u001B[38;5;241m2\u001B[39m,\u001B[38;5;241m2\u001B[39m,\u001B[38;5;241m2\u001B[39m,\u001B[38;5;241m1\u001B[39m,\u001B[38;5;241m0\u001B[39m,\u001B[38;5;241m1\u001B[39m,\u001B[38;5;241m0\u001B[39m,\u001B[38;5;241m0\u001B[39m])\n\u001B[0;32m----> 2\u001B[0m \u001B[43mentropy\u001B[49m\u001B[43m(\u001B[49m\u001B[43my\u001B[49m\u001B[43m)\u001B[49m\n",
      "File \u001B[0;32m~/Code/Plant-Disease-parallelized-XGBoost/.venv/lib/python3.12/site-packages/numba/core/dispatcher.py:468\u001B[0m, in \u001B[0;36m_DispatcherBase._compile_for_args\u001B[0;34m(self, *args, **kws)\u001B[0m\n\u001B[1;32m    464\u001B[0m         msg \u001B[38;5;241m=\u001B[39m (\u001B[38;5;124mf\u001B[39m\u001B[38;5;124m\"\u001B[39m\u001B[38;5;132;01m{\u001B[39;00m\u001B[38;5;28mstr\u001B[39m(e)\u001B[38;5;241m.\u001B[39mrstrip()\u001B[38;5;132;01m}\u001B[39;00m\u001B[38;5;124m \u001B[39m\u001B[38;5;130;01m\\n\u001B[39;00m\u001B[38;5;130;01m\\n\u001B[39;00m\u001B[38;5;124mThis error may have been caused \u001B[39m\u001B[38;5;124m\"\u001B[39m\n\u001B[1;32m    465\u001B[0m                \u001B[38;5;124mf\u001B[39m\u001B[38;5;124m\"\u001B[39m\u001B[38;5;124mby the following argument(s):\u001B[39m\u001B[38;5;130;01m\\n\u001B[39;00m\u001B[38;5;132;01m{\u001B[39;00margs_str\u001B[38;5;132;01m}\u001B[39;00m\u001B[38;5;130;01m\\n\u001B[39;00m\u001B[38;5;124m\"\u001B[39m)\n\u001B[1;32m    466\u001B[0m         e\u001B[38;5;241m.\u001B[39mpatch_message(msg)\n\u001B[0;32m--> 468\u001B[0m     \u001B[43merror_rewrite\u001B[49m\u001B[43m(\u001B[49m\u001B[43me\u001B[49m\u001B[43m,\u001B[49m\u001B[43m \u001B[49m\u001B[38;5;124;43m'\u001B[39;49m\u001B[38;5;124;43mtyping\u001B[39;49m\u001B[38;5;124;43m'\u001B[39;49m\u001B[43m)\u001B[49m\n\u001B[1;32m    469\u001B[0m \u001B[38;5;28;01mexcept\u001B[39;00m errors\u001B[38;5;241m.\u001B[39mUnsupportedError \u001B[38;5;28;01mas\u001B[39;00m e:\n\u001B[1;32m    470\u001B[0m     \u001B[38;5;66;03m# Something unsupported is present in the user code, add help info\u001B[39;00m\n\u001B[1;32m    471\u001B[0m     error_rewrite(e, \u001B[38;5;124m'\u001B[39m\u001B[38;5;124munsupported_error\u001B[39m\u001B[38;5;124m'\u001B[39m)\n",
      "File \u001B[0;32m~/Code/Plant-Disease-parallelized-XGBoost/.venv/lib/python3.12/site-packages/numba/core/dispatcher.py:409\u001B[0m, in \u001B[0;36m_DispatcherBase._compile_for_args.<locals>.error_rewrite\u001B[0;34m(e, issue_type)\u001B[0m\n\u001B[1;32m    407\u001B[0m     \u001B[38;5;28;01mraise\u001B[39;00m e\n\u001B[1;32m    408\u001B[0m \u001B[38;5;28;01melse\u001B[39;00m:\n\u001B[0;32m--> 409\u001B[0m     \u001B[38;5;28;01mraise\u001B[39;00m e\u001B[38;5;241m.\u001B[39mwith_traceback(\u001B[38;5;28;01mNone\u001B[39;00m)\n",
      "\u001B[0;31mTypingError\u001B[0m: Failed in nopython mode pipeline (step: nopython frontend)\nNo implementation of function Function(<function unique at 0x104519080>) found for signature:\n \n >>> unique(array(int64, 1d, C), return_counts=Literal[bool](True))\n \nThere are 2 candidate implementations:\n      - Of which 2 did not match due to:\n      Overload in function 'np_unique': File: numba/np/arrayobj.py: Line 2561.\n        With argument(s): '(array(int64, 1d, C), return_counts=bool)':\n       Rejected as the implementation raised a specific error:\n         TypingError: got an unexpected keyword argument 'return_counts'\n  raised from /Users/btp712/Code/Plant-Disease-parallelized-XGBoost/.venv/lib/python3.12/site-packages/numba/core/typing/templates.py:784\n\nDuring: resolving callee type: Function(<function unique at 0x104519080>)\nDuring: typing of call at /var/folders/xl/lwf29p0n1bs99ksdkvmkq_n80000gn/T/ipykernel_37894/281965823.py (4)\n\n\nFile \"../../../../var/folders/xl/lwf29p0n1bs99ksdkvmkq_n80000gn/T/ipykernel_37894/281965823.py\", line 4:\n<source missing, REPL/exec in use?>\n"
     ]
    }
   ],
   "execution_count": 10
  }
 ],
 "metadata": {
  "kernelspec": {
   "display_name": "Python 3",
   "language": "python",
   "name": "python3"
  },
  "language_info": {
   "codemirror_mode": {
    "name": "ipython",
    "version": 2
   },
   "file_extension": ".py",
   "mimetype": "text/x-python",
   "name": "python",
   "nbconvert_exporter": "python",
   "pygments_lexer": "ipython2",
   "version": "2.7.6"
  }
 },
 "nbformat": 4,
 "nbformat_minor": 5
}
